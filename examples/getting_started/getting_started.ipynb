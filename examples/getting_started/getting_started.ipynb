{
 "cells": [
  {
   "cell_type": "code",
   "execution_count": 2,
   "metadata": {},
   "outputs": [],
   "source": [
    "# Set parent directory\n",
    "import sys\n",
    "sys.path.append('../..')\n",
    "\n",
    "from getgot.memory.basic_agent_memory import GetGot\n",
    "from getgot.schemas.openai.chat_completion_request import UserMessage, AssistantMessage\n"
   ]
  },
  {
   "cell_type": "code",
   "execution_count": 2,
   "metadata": {},
   "outputs": [],
   "source": [
    "# Define the LLM client\n",
    "memory = GetGot(working_capacity = 5)"
   ]
  },
  {
   "cell_type": "code",
   "execution_count": 3,
   "metadata": {},
   "outputs": [],
   "source": [
    "messages = [\n",
    "    UserMessage(content=\"Hey there, what's up?\"),\n",
    "    AssistantMessage(content=\"I'm doing well, thanks for asking!\"),\n",
    "    UserMessage(content=\"What is a cool bar in SF?\"),\n",
    "    AssistantMessage(content=\"I recommend the Mission. It's a great neighborhood with a lot of cool bars.\"),\n",
    "    UserMessage(content=\"Nice, I went to Bar Part Time last weekend and it was pretty cool.\"),\n",
    "    AssistantMessage(content=\"Cool! That's a pretty good one. If you want some niche shit though, I'd try out Cafe Bazaar. It's a coffee shop in Inner Richmond but they have small concerts pretty often.\"),\n",
    "    # Change topics \n",
    "    UserMessage(content=\"I'll check it out. What are some cool music artists from SF?\"),\n",
    "    AssistantMessage(content=\"Hmm... My favorite is probably LSD and the Search for God. They're a shoegaze band from SF. Not sure if that's your thing, but they're really good.\"),\n",
    "    UserMessage(content=\"Hell yeah ok. Will do. I like Death Grips\"),\n",
    "    AssistantMessage(content=\"Omg slay. I also love DG! Did you hear they recent news? :(\"),\n",
    "    UserMessage(content=\"No.. what happened\"),\n",
    "    AssistantMessage(content=\"Some dm got leaked with Andy and he said they're breaking up\")\n",
    "]\n",
    "for message in messages:\n",
    "    memory.add_message(message)"
   ]
  },
  {
   "cell_type": "code",
   "execution_count": 4,
   "metadata": {},
   "outputs": [],
   "source": [
    "from pprint import pprint\n",
    "pprint(memory.construct_messages())"
   ]
  },
  {
   "cell_type": "code",
   "execution_count": 3,
   "metadata": {},
   "outputs": [],
   "source": [
    "## Basic chat with user input\n",
    "from openai import OpenAI\n",
    "import os\n",
    "\n",
    "from dotenv import load_dotenv\n",
    "load_dotenv()\n",
    "\n",
    "client = OpenAI(api_key = os.getenv(\"OPENAI_API_KEY\"))"
   ]
  },
  {
   "cell_type": "code",
   "execution_count": 6,
   "metadata": {},
   "outputs": [],
   "source": [
    "from IPython.display import clear_output"
   ]
  },
  {
   "cell_type": "code",
   "execution_count": 7,
   "metadata": {},
   "outputs": [
    {
     "name": "stdout",
     "output_type": "stream",
     "text": [
      "Starting chat...\n"
     ]
    }
   ],
   "source": [
    "while True:\n",
    "    try:\n",
    "        print(\"Starting chat...\")\n",
    "        user_input = input(\"You: \")\n",
    "        # Clear previous output to make chat look cleaner\n",
    "        clear_output(wait=True)\n",
    "        \n",
    "        if user_input.lower() in [\"exit\", \"quit\", \"q\", \"bye\"]:\n",
    "            break\n",
    "            \n",
    "        # Print the user's message again (since we cleared output)\n",
    "        print(f\"You: {user_input}\")\n",
    "        \n",
    "        user_message = UserMessage(content=user_input)\n",
    "        memory.add_message(user_message)\n",
    "        messages = memory.construct_messages()\n",
    "        response = client.chat.completions.create(\n",
    "            model=\"gpt-4o-mini\",\n",
    "            messages=messages\n",
    "        )\n",
    "        print(f\"Assistant: {response.choices[0].message.content}\")\n",
    "        assistant_message = AssistantMessage(content=response.choices[0].message.content)\n",
    "        memory.add_message(assistant_message)\n",
    "        \n",
    "    except KeyboardInterrupt:\n",
    "        break"
   ]
  },
  {
   "cell_type": "code",
   "execution_count": null,
   "metadata": {},
   "outputs": [],
   "source": []
  }
 ],
 "metadata": {
  "kernelspec": {
   "display_name": "getgot",
   "language": "python",
   "name": "python3"
  },
  "language_info": {
   "codemirror_mode": {
    "name": "ipython",
    "version": 3
   },
   "file_extension": ".py",
   "mimetype": "text/x-python",
   "name": "python",
   "nbconvert_exporter": "python",
   "pygments_lexer": "ipython3",
   "version": "3.10.16"
  }
 },
 "nbformat": 4,
 "nbformat_minor": 2
}
